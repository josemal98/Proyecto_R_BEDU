{
  "nbformat": 4,
  "nbformat_minor": 0,
  "metadata": {
    "colab": {
      "provenance": []
    },
    "kernelspec": {
      "name": "ir",
      "display_name": "R"
    },
    "language_info": {
      "name": "R"
    }
  },
  "cells": [
    {
      "cell_type": "markdown",
      "source": [
        "\n",
        "<center>\n",
        "  <img src=\"https://cdn.myportfolio.com/67cf45ca-338d-4fd0-943b-32d96162976a/fe9b5c99-a4b5-471d-ab07-ed9669f5ba3c_rw_1920.png?h=fad567edc7d94c5d1135f05aacd5c1ef\" alt=\"descripción de la imagen\" width=\"50%\" height=\"800%\" align=\"center\">\n",
        "</center>\n",
        "\n",
        "\n",
        "\n",
        "\n",
        "\n"
      ],
      "metadata": {
        "id": "d8LP6MoTC5zE"
      }
    },
    {
      "cell_type": "markdown",
      "source": [
        "<t align=\"center\">\n",
        "\n",
        "# **Ciencia de Datos**"
      ],
      "metadata": {
        "id": "vJOf9DwwClCe"
      }
    },
    {
      "cell_type": "markdown",
      "source": [
        "<t align=\"center\">\n",
        "\n",
        "# **Programación y estadística con R**"
      ],
      "metadata": {
        "id": "FHqhisP0Cyss"
      }
    },
    {
      "cell_type": "markdown",
      "source": [
        "<t align=\"center\">\n",
        "\n",
        "# **Factores económicos y de salud relevantes en la predicción de la esperanza de vida**"
      ],
      "metadata": {
        "id": "XC2nGYNIez1_"
      }
    },
    {
      "cell_type": "markdown",
      "source": [
        "<t align=\"center\">\n",
        "\n",
        "# Equipo 15: José Carlos Barreras Maldonado"
      ],
      "metadata": {
        "id": "dwkvPoe2GhpW"
      }
    },
    {
      "cell_type": "markdown",
      "source": [
        "# **ÍNDICE**\n",
        "---\n",
        "## **1 Introducción**\n",
        "\n",
        "---\n",
        "## 1.1 Descripción del proyecto\n",
        "\n",
        "## 1.2 Descripción del Dataset\n",
        "\n",
        "---\n",
        "## **2. Preparación de los datos**\n",
        "\n",
        "---\n",
        "\n",
        "## 2.1 Cargar datos\n",
        "\n",
        "## 2.2 Datos faltantes\n",
        "\n",
        "## 2.3 Datos atípicos\n",
        "\n",
        "---\n",
        "## **3. Análisis exploratorio de los datos**\n",
        "\n",
        "---\n",
        "\n",
        "## 3.1\n",
        "\n",
        "## 3.2\n",
        "\n",
        "## 3.3\n",
        "\n",
        "---\n",
        "## **4. Modelado**\n",
        "\n",
        "---\n",
        "\n",
        "## 4.1 Selección de características\n",
        "\n",
        "## 4.2 Selección del modelo\n",
        "\n",
        "## 4.3 Entrenamiento y validación\n",
        "\n",
        "---\n",
        "## **5. Conclusiones**\n",
        "\n",
        "---\n",
        "\n"
      ],
      "metadata": {
        "id": "Pu7ViC5NKb3A"
      }
    },
    {
      "cell_type": "markdown",
      "source": [
        "## **Introducción**"
      ],
      "metadata": {
        "id": "klLFRxi3ZPjy"
      }
    },
    {
      "cell_type": "markdown",
      "source": [
        "## Descripción del proyecto"
      ],
      "metadata": {
        "id": "eXpZe6RpHALV"
      }
    },
    {
      "cell_type": "markdown",
      "source": [
        "Este proyecto forma parte del último módulo \"Programación y estadística con R\" del curso de Ciencia de Datos de BEDU y se centra en identificar los determinantes clave que influyen en la esperanza de vida. La pregunta central que buscamos responder es esencial para las organizaciones de salud que buscan mejorar la esperanza de vida en regiones específicas: ¿Qué variables, y de qué manera, pueden modificarse para mejorar eficazmente la esperanza de vida?\n",
        "\n",
        "El proyecto parte de un conjunto de datos conformado por valores de esperanza de vida, asociados a factores económicos y de salud. Se busca, por medio de un análisis exhaustivo, identificar y cuantificar el impacto de las diversas variables independientes en la variable dependiente: la esperanza de vida. Al aprovechar métodos estadísticos y algoritmos de aprendizaje automático, el objetivo es proporcionar conocimientos accionables sobre los factores que contribuyen significativamente a las variaciones en la esperanza de vida.\n",
        "\n",
        "Esta investigación va más allá de la mera correlación, explorando no solo las asociaciones, sino la fuerza y dirección de las relaciones. El resultado de este análisis equipará a las organizaciones de salud con estrategias dirigidas, permitiéndoles tomar decisiones informadas sobre intervenciones que maximizarán el impacto en la esperanza de vida.\n",
        "\n"
      ],
      "metadata": {
        "id": "OTQBW1TxOZy5"
      }
    },
    {
      "cell_type": "markdown",
      "source": [
        "## Descripción del Dataset"
      ],
      "metadata": {
        "id": "DiGt-K6q4OLK"
      }
    },
    {
      "cell_type": "markdown",
      "source": [
        "Este dataset se generó fusionando información de dos fuentes distintas. La primera fuente proviene del Observatorio Mundial de la Salud (GHO), parte de la Organización Mundial de la Salud (OMS), que realiza un seguimiento de la salud y otros factores relacionados en 193 países. Esta información aborda aspectos de salud, incluyendo la esperanza de vida y otros indicadores relevantes. La segunda fuente corresponde al sitio web de las Naciones Unidas, proporcionando datos económicos correspondientes a los mismos países.\n",
        "\n",
        "Se seleccionaron los factores críticos más representativos entre todas las categorías de aspectos relacionados con la salud. Se sabe que ha habido un notable desarrollo en el sector de la salud a lo largo del presente siglo, mejorando las tasas de mortalidad, especialmente en países en desarrollo, en comparación con las últimas tres décadas. Por ende, el dataset abarca datos desde el año 2000 hasta el 2015 para los 193 países, permitiendo un análisis exhaustivo.\n",
        "\n",
        "Una inspección visual inicial reveló algunos valores faltantes, principalmente en variables como la población, Hepatitis B y el Producto Interno Bruto (PIB). Dado que los conjuntos de datos provienen de la OMS y no presentan errores evidentes, los datos faltantes fueron tratados en R mediante el comando Missmap. La mayoría de estos datos faltantes corresponden a países menos conocidos, como Vanuatu, Tonga, Togo, Cabo Verde, entre otros. Debido a la dificultad para obtener todos los datos de estos países, se optó por excluirlos del conjunto de datos final del modelo.\n",
        "\n",
        "El archivo resultante (conjunto de datos final) consta de 22 columnas y 2938 filas, representando 20 variables predictoras. Estas variables predictoras se categorizaron en aspectos amplios, abordando factores relacionados con la inmunización, mortalidad, economía y sociedad.\n",
        "\n",
        "\n",
        "\n",
        "| Variable                            | Tipo     | Descripción                                                                       | Categoría      |\n",
        "|-------------------------------------|----------|-----------------------------------------------------------------------------------|----------------|\n",
        "| Life_Expectancy                     | numeric  | Esperanza de vida en años                                                         | Dependiente    |\n",
        "| Country                             | factor   | Nombre del país                                                                   | Independiente  |\n",
        "| Year                                | numeric  | Año de los datos                                                                  | Independiente  |\n",
        "| Status                              | factor   | Estado del país, desarrollado o en desarrollo                                     | Independiente  |\n",
        "| Adult_Mortality                     | numeric  | Tasas de mortalidad de adultos de ambos sexos (probabilidad de morir entre 15 y 60 años por 1000 habitantes) | Independiente  |\n",
        "| Infant_Deaths                       | numeric  | Número de muertes de infantes por 1000 habitantes                                  | Independiente  |\n",
        "| Alcohol                             | numeric  | Consumo de alcohol registrado per cápita (15+) (en litros de alcohol puro)        | Independiente  |\n",
        "| Percentage_Expenditure              | numeric  | Gasto en salud como porcentaje del Producto Interno Bruto per cápita (%)         | Independiente  |\n",
        "| Hepatitis_B                         | numeric  | Cobertura de inmunización contra la Hepatitis B (HepB) entre niños de 1 año (%)    | Independiente  |\n",
        "| Measles                             | numeric  | Número de casos reportados por 1000 habitantes                                     | Independiente  |\n",
        "| BMI                                 | numeric  | Índice de Masa Corporal promedio de toda la población                             | Independiente  |\n",
        "| Under_Five_Deaths                   | numeric  | Número de muertes de menores de cinco años por 1000 habitantes                    | Independiente  |\n",
        "| Polio                               | numeric  | Cobertura de inmunización contra la polio (Pol3) entre niños de 1 año (%)          | Independiente  |\n",
        "| Total_Expenditure                   | numeric  | Gasto del gobierno en salud como porcentaje del gasto gubernamental total (%)      | Independiente  |\n",
        "| Diphtheria                          | numeric  | Cobertura de inmunización contra la difteria, tétanos y tos ferina (DTP3) entre niños de 1 año (%) | Independiente  |\n",
        "| HIV_AIDS                            | numeric  | Muertes por VIH/SIDA por 1000 nacidos vivos (0-4 años)                             | Independiente  |\n",
        "| GDP                                 | numeric  | Producto Interno Bruto per cápita (en USD)                                         | Independiente  |\n",
        "| Population                          | numeric  | Población del país                                                               | Independiente  |\n",
        "| Thinness_1_19_Years                 | numeric  | Prevalencia de delgadez entre niños y adolescentes de 10 a 19 años (%)             | Independiente  |\n",
        "| Thinness_5_9_Years                  | numeric  | Prevalencia de delgadez entre niños de 5 a 9 años (%)                              | Independiente  |\n",
        "| Income_Composition_of_Resources     | numeric  | Índice de Desarrollo Humano en términos de composición de ingresos (índice que va de 0 a 1) | Independiente  |\n",
        "| Schooling                           | numeric  | Número de años de escolaridad (años)                                              | Independiente  |\n",
        "\n"
      ],
      "metadata": {
        "id": "jfnYPbhf4aUw"
      }
    },
    {
      "cell_type": "markdown",
      "source": [
        "## **Preparación de los datos**"
      ],
      "metadata": {
        "id": "MG2mXY27ZWfU"
      }
    },
    {
      "cell_type": "code",
      "source": [
        "# Librerías a utilizar\n",
        "librerias <- c(\"tidyverse\", \"ggplot2\", \"ggcorrplot\", \"corrplot\", \"leaps\",\n",
        "               \"car\", \"Metrics\", \"reshape2\", \"ggpubr\", \"moments\", \"readr\")\n",
        "\n",
        "# Iterar sobre la lista\n",
        "for (libreria in librerias) {\n",
        "  # Verificar si la librería está instalada\n",
        "  if (!requireNamespace(libreria, quietly = TRUE)) {\n",
        "    # Instalar en caso de que no lo esté\n",
        "    install.packages(libreria)\n",
        "  }\n",
        "\n",
        "  # Carga la librería\n",
        "  library(libreria, character.only = TRUE)\n",
        "}"
      ],
      "metadata": {
        "id": "zDDujKP9gk8k"
      },
      "execution_count": 14,
      "outputs": []
    },
    {
      "cell_type": "markdown",
      "source": [
        "## Cargar los datos"
      ],
      "metadata": {
        "id": "lMUUAnFSisN-"
      }
    },
    {
      "cell_type": "code",
      "source": [
        "# URL del archivo CSV en GitHub\n",
        "url <- \"https://raw.githubusercontent.com/josemal98/Proyecto_R_BEDU/main/Datos/Life_expectancy_data.csv\"\n",
        "\n",
        "# Leer datos desde GitHub\n",
        "data <- read.csv(url)\n",
        "\n",
        "# Inspeccionar primeros elementos del dataset\n",
        "head(data)"
      ],
      "metadata": {
        "colab": {
          "base_uri": "https://localhost:8080/",
          "height": 306
        },
        "id": "6pZta3cqivik",
        "outputId": "86499be2-3b46-43cc-e661-be21a5c9b966"
      },
      "execution_count": 17,
      "outputs": [
        {
          "output_type": "display_data",
          "data": {
            "text/html": [
              "<table class=\"dataframe\">\n",
              "<caption>A data.frame: 6 × 22</caption>\n",
              "<thead>\n",
              "\t<tr><th></th><th scope=col>Country</th><th scope=col>Year</th><th scope=col>Status</th><th scope=col>Life.expectancy</th><th scope=col>Adult.Mortality</th><th scope=col>infant.deaths</th><th scope=col>Alcohol</th><th scope=col>percentage.expenditure</th><th scope=col>Hepatitis.B</th><th scope=col>Measles</th><th scope=col>⋯</th><th scope=col>Polio</th><th scope=col>Total.expenditure</th><th scope=col>Diphtheria</th><th scope=col>HIV.AIDS</th><th scope=col>GDP</th><th scope=col>Population</th><th scope=col>thinness..1.19.years</th><th scope=col>thinness.5.9.years</th><th scope=col>Income.composition.of.resources</th><th scope=col>Schooling</th></tr>\n",
              "\t<tr><th></th><th scope=col>&lt;chr&gt;</th><th scope=col>&lt;int&gt;</th><th scope=col>&lt;chr&gt;</th><th scope=col>&lt;dbl&gt;</th><th scope=col>&lt;int&gt;</th><th scope=col>&lt;int&gt;</th><th scope=col>&lt;dbl&gt;</th><th scope=col>&lt;dbl&gt;</th><th scope=col>&lt;int&gt;</th><th scope=col>&lt;int&gt;</th><th scope=col>⋯</th><th scope=col>&lt;int&gt;</th><th scope=col>&lt;dbl&gt;</th><th scope=col>&lt;int&gt;</th><th scope=col>&lt;dbl&gt;</th><th scope=col>&lt;dbl&gt;</th><th scope=col>&lt;dbl&gt;</th><th scope=col>&lt;dbl&gt;</th><th scope=col>&lt;dbl&gt;</th><th scope=col>&lt;dbl&gt;</th><th scope=col>&lt;dbl&gt;</th></tr>\n",
              "</thead>\n",
              "<tbody>\n",
              "\t<tr><th scope=row>1</th><td>Afghanistan</td><td>2015</td><td>Developing</td><td>65.0</td><td>263</td><td>62</td><td>0.01</td><td>71.279624</td><td>65</td><td>1154</td><td>⋯</td><td> 6</td><td>8.16</td><td>65</td><td>0.1</td><td>584.25921</td><td>33736494</td><td>17.2</td><td>17.3</td><td>0.479</td><td>10.1</td></tr>\n",
              "\t<tr><th scope=row>2</th><td>Afghanistan</td><td>2014</td><td>Developing</td><td>59.9</td><td>271</td><td>64</td><td>0.01</td><td>73.523582</td><td>62</td><td> 492</td><td>⋯</td><td>58</td><td>8.18</td><td>62</td><td>0.1</td><td>612.69651</td><td>  327582</td><td>17.5</td><td>17.5</td><td>0.476</td><td>10.0</td></tr>\n",
              "\t<tr><th scope=row>3</th><td>Afghanistan</td><td>2013</td><td>Developing</td><td>59.9</td><td>268</td><td>66</td><td>0.01</td><td>73.219243</td><td>64</td><td> 430</td><td>⋯</td><td>62</td><td>8.13</td><td>64</td><td>0.1</td><td>631.74498</td><td>31731688</td><td>17.7</td><td>17.7</td><td>0.470</td><td> 9.9</td></tr>\n",
              "\t<tr><th scope=row>4</th><td>Afghanistan</td><td>2012</td><td>Developing</td><td>59.5</td><td>272</td><td>69</td><td>0.01</td><td>78.184215</td><td>67</td><td>2787</td><td>⋯</td><td>67</td><td>8.52</td><td>67</td><td>0.1</td><td>669.95900</td><td> 3696958</td><td>17.9</td><td>18.0</td><td>0.463</td><td> 9.8</td></tr>\n",
              "\t<tr><th scope=row>5</th><td>Afghanistan</td><td>2011</td><td>Developing</td><td>59.2</td><td>275</td><td>71</td><td>0.01</td><td> 7.097109</td><td>68</td><td>3013</td><td>⋯</td><td>68</td><td>7.87</td><td>68</td><td>0.1</td><td> 63.53723</td><td> 2978599</td><td>18.2</td><td>18.2</td><td>0.454</td><td> 9.5</td></tr>\n",
              "\t<tr><th scope=row>6</th><td>Afghanistan</td><td>2010</td><td>Developing</td><td>58.8</td><td>279</td><td>74</td><td>0.01</td><td>79.679367</td><td>66</td><td>1989</td><td>⋯</td><td>66</td><td>9.20</td><td>66</td><td>0.1</td><td>553.32894</td><td> 2883167</td><td>18.4</td><td>18.4</td><td>0.448</td><td> 9.2</td></tr>\n",
              "</tbody>\n",
              "</table>\n"
            ],
            "text/markdown": "\nA data.frame: 6 × 22\n\n| <!--/--> | Country &lt;chr&gt; | Year &lt;int&gt; | Status &lt;chr&gt; | Life.expectancy &lt;dbl&gt; | Adult.Mortality &lt;int&gt; | infant.deaths &lt;int&gt; | Alcohol &lt;dbl&gt; | percentage.expenditure &lt;dbl&gt; | Hepatitis.B &lt;int&gt; | Measles &lt;int&gt; | ⋯ ⋯ | Polio &lt;int&gt; | Total.expenditure &lt;dbl&gt; | Diphtheria &lt;int&gt; | HIV.AIDS &lt;dbl&gt; | GDP &lt;dbl&gt; | Population &lt;dbl&gt; | thinness..1.19.years &lt;dbl&gt; | thinness.5.9.years &lt;dbl&gt; | Income.composition.of.resources &lt;dbl&gt; | Schooling &lt;dbl&gt; |\n|---|---|---|---|---|---|---|---|---|---|---|---|---|---|---|---|---|---|---|---|---|---|\n| 1 | Afghanistan | 2015 | Developing | 65.0 | 263 | 62 | 0.01 | 71.279624 | 65 | 1154 | ⋯ |  6 | 8.16 | 65 | 0.1 | 584.25921 | 33736494 | 17.2 | 17.3 | 0.479 | 10.1 |\n| 2 | Afghanistan | 2014 | Developing | 59.9 | 271 | 64 | 0.01 | 73.523582 | 62 |  492 | ⋯ | 58 | 8.18 | 62 | 0.1 | 612.69651 |   327582 | 17.5 | 17.5 | 0.476 | 10.0 |\n| 3 | Afghanistan | 2013 | Developing | 59.9 | 268 | 66 | 0.01 | 73.219243 | 64 |  430 | ⋯ | 62 | 8.13 | 64 | 0.1 | 631.74498 | 31731688 | 17.7 | 17.7 | 0.470 |  9.9 |\n| 4 | Afghanistan | 2012 | Developing | 59.5 | 272 | 69 | 0.01 | 78.184215 | 67 | 2787 | ⋯ | 67 | 8.52 | 67 | 0.1 | 669.95900 |  3696958 | 17.9 | 18.0 | 0.463 |  9.8 |\n| 5 | Afghanistan | 2011 | Developing | 59.2 | 275 | 71 | 0.01 |  7.097109 | 68 | 3013 | ⋯ | 68 | 7.87 | 68 | 0.1 |  63.53723 |  2978599 | 18.2 | 18.2 | 0.454 |  9.5 |\n| 6 | Afghanistan | 2010 | Developing | 58.8 | 279 | 74 | 0.01 | 79.679367 | 66 | 1989 | ⋯ | 66 | 9.20 | 66 | 0.1 | 553.32894 |  2883167 | 18.4 | 18.4 | 0.448 |  9.2 |\n\n",
            "text/latex": "A data.frame: 6 × 22\n\\begin{tabular}{r|lllllllllllllllllllll}\n  & Country & Year & Status & Life.expectancy & Adult.Mortality & infant.deaths & Alcohol & percentage.expenditure & Hepatitis.B & Measles & ⋯ & Polio & Total.expenditure & Diphtheria & HIV.AIDS & GDP & Population & thinness..1.19.years & thinness.5.9.years & Income.composition.of.resources & Schooling\\\\\n  & <chr> & <int> & <chr> & <dbl> & <int> & <int> & <dbl> & <dbl> & <int> & <int> & ⋯ & <int> & <dbl> & <int> & <dbl> & <dbl> & <dbl> & <dbl> & <dbl> & <dbl> & <dbl>\\\\\n\\hline\n\t1 & Afghanistan & 2015 & Developing & 65.0 & 263 & 62 & 0.01 & 71.279624 & 65 & 1154 & ⋯ &  6 & 8.16 & 65 & 0.1 & 584.25921 & 33736494 & 17.2 & 17.3 & 0.479 & 10.1\\\\\n\t2 & Afghanistan & 2014 & Developing & 59.9 & 271 & 64 & 0.01 & 73.523582 & 62 &  492 & ⋯ & 58 & 8.18 & 62 & 0.1 & 612.69651 &   327582 & 17.5 & 17.5 & 0.476 & 10.0\\\\\n\t3 & Afghanistan & 2013 & Developing & 59.9 & 268 & 66 & 0.01 & 73.219243 & 64 &  430 & ⋯ & 62 & 8.13 & 64 & 0.1 & 631.74498 & 31731688 & 17.7 & 17.7 & 0.470 &  9.9\\\\\n\t4 & Afghanistan & 2012 & Developing & 59.5 & 272 & 69 & 0.01 & 78.184215 & 67 & 2787 & ⋯ & 67 & 8.52 & 67 & 0.1 & 669.95900 &  3696958 & 17.9 & 18.0 & 0.463 &  9.8\\\\\n\t5 & Afghanistan & 2011 & Developing & 59.2 & 275 & 71 & 0.01 &  7.097109 & 68 & 3013 & ⋯ & 68 & 7.87 & 68 & 0.1 &  63.53723 &  2978599 & 18.2 & 18.2 & 0.454 &  9.5\\\\\n\t6 & Afghanistan & 2010 & Developing & 58.8 & 279 & 74 & 0.01 & 79.679367 & 66 & 1989 & ⋯ & 66 & 9.20 & 66 & 0.1 & 553.32894 &  2883167 & 18.4 & 18.4 & 0.448 &  9.2\\\\\n\\end{tabular}\n",
            "text/plain": [
              "  Country     Year Status     Life.expectancy Adult.Mortality infant.deaths\n",
              "1 Afghanistan 2015 Developing 65.0            263             62           \n",
              "2 Afghanistan 2014 Developing 59.9            271             64           \n",
              "3 Afghanistan 2013 Developing 59.9            268             66           \n",
              "4 Afghanistan 2012 Developing 59.5            272             69           \n",
              "5 Afghanistan 2011 Developing 59.2            275             71           \n",
              "6 Afghanistan 2010 Developing 58.8            279             74           \n",
              "  Alcohol percentage.expenditure Hepatitis.B Measles ⋯ Polio Total.expenditure\n",
              "1 0.01    71.279624              65          1154    ⋯  6    8.16             \n",
              "2 0.01    73.523582              62           492    ⋯ 58    8.18             \n",
              "3 0.01    73.219243              64           430    ⋯ 62    8.13             \n",
              "4 0.01    78.184215              67          2787    ⋯ 67    8.52             \n",
              "5 0.01     7.097109              68          3013    ⋯ 68    7.87             \n",
              "6 0.01    79.679367              66          1989    ⋯ 66    9.20             \n",
              "  Diphtheria HIV.AIDS GDP       Population thinness..1.19.years\n",
              "1 65         0.1      584.25921 33736494   17.2                \n",
              "2 62         0.1      612.69651   327582   17.5                \n",
              "3 64         0.1      631.74498 31731688   17.7                \n",
              "4 67         0.1      669.95900  3696958   17.9                \n",
              "5 68         0.1       63.53723  2978599   18.2                \n",
              "6 66         0.1      553.32894  2883167   18.4                \n",
              "  thinness.5.9.years Income.composition.of.resources Schooling\n",
              "1 17.3               0.479                           10.1     \n",
              "2 17.5               0.476                           10.0     \n",
              "3 17.7               0.470                            9.9     \n",
              "4 18.0               0.463                            9.8     \n",
              "5 18.2               0.454                            9.5     \n",
              "6 18.4               0.448                            9.2     "
            ]
          },
          "metadata": {}
        }
      ]
    },
    {
      "cell_type": "markdown",
      "source": [
        "#### Dimensiones de los datos"
      ],
      "metadata": {
        "id": "bHSSotVAX-tn"
      }
    },
    {
      "cell_type": "code",
      "source": [
        "# Dimensión de los datos\n",
        "sprintf(\"Dataset size: [%s]\", toString(dim(data)))"
      ],
      "metadata": {
        "colab": {
          "base_uri": "https://localhost:8080/",
          "height": 34
        },
        "id": "Bcx2HTC3XtxF",
        "outputId": "00dd6e4f-0154-488a-c27f-40d9f60ba0f5"
      },
      "execution_count": 18,
      "outputs": [
        {
          "output_type": "display_data",
          "data": {
            "text/html": [
              "'Dataset size: [2938, 22]'"
            ],
            "text/markdown": "'Dataset size: [2938, 22]'",
            "text/latex": "'Dataset size: {[}2938, 22{]}'",
            "text/plain": [
              "[1] \"Dataset size: [2938, 22]\""
            ]
          },
          "metadata": {}
        }
      ]
    },
    {
      "cell_type": "markdown",
      "source": [
        "## Datos faltantes"
      ],
      "metadata": {
        "id": "9OJFpXq9ZmzG"
      }
    }
  ]
}